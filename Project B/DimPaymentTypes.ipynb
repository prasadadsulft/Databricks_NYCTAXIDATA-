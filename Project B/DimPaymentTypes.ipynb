{
 "cells": [
  {
   "cell_type": "markdown",
   "metadata": {
    "application/vnd.databricks.v1+cell": {
     "cellMetadata": {},
     "inputWidgets": {},
     "nuid": "d3dcfc8a-602e-4612-94ab-ca47bc9db5ac",
     "showTitle": false,
     "title": ""
    }
   },
   "source": [
    "### Payment types\n",
    "Extract and transform Payment Types data.\n",
    "\n",
    "Create dimension, load as unmanaged table, as well as register as a global temporary view"
   ]
  },
  {
   "cell_type": "code",
   "execution_count": 0,
   "metadata": {
    "application/vnd.databricks.v1+cell": {
     "cellMetadata": {
      "byteLimit": 2048000,
      "rowLimit": 10000
     },
     "inputWidgets": {},
     "nuid": "6274958f-359a-4cda-a0a6-92331e5abe0c",
     "showTitle": false,
     "title": ""
    }
   },
   "outputs": [
    {
     "output_type": "display_data",
     "data": {
      "text/html": [
       "<style scoped>\n",
       "  .ansiout {\n",
       "    display: block;\n",
       "    unicode-bidi: embed;\n",
       "    white-space: pre-wrap;\n",
       "    word-wrap: break-word;\n",
       "    word-break: break-all;\n",
       "    font-family: \"Source Code Pro\", \"Menlo\", monospace;;\n",
       "    font-size: 13px;\n",
       "    color: #555;\n",
       "    margin-left: 4px;\n",
       "    line-height: 19px;\n",
       "  }\n",
       "</style>\n",
       "<div class=\"ansiout\"></div>"
      ]
     },
     "metadata": {
      "application/vnd.databricks.v1+output": {
       "addedWidgets": {},
       "arguments": {},
       "data": "<div class=\"ansiout\"></div>",
       "datasetInfos": [],
       "metadata": {},
       "removedWidgets": [],
       "type": "html"
      }
     },
     "output_type": "display_data"
    }
   ],
   "source": [
    "from pyspark.sql.functions import *\n",
    "from pyspark.sql.types import *\n",
    "from pyspark.sql.functions import col"
   ]
  },
  {
   "cell_type": "code",
   "execution_count": 0,
   "metadata": {
    "application/vnd.databricks.v1+cell": {
     "cellMetadata": {
      "byteLimit": 2048000,
      "rowLimit": 10000
     },
     "inputWidgets": {},
     "nuid": "9562b9e9-66aa-4425-a0f9-ee877112e2f1",
     "showTitle": false,
     "title": ""
    }
   },
   "outputs": [
    {
     "output_type": "display_data",
     "data": {
      "text/html": [
       "<style scoped>\n",
       "  .ansiout {\n",
       "    display: block;\n",
       "    unicode-bidi: embed;\n",
       "    white-space: pre-wrap;\n",
       "    word-wrap: break-word;\n",
       "    word-break: break-all;\n",
       "    font-family: \"Source Code Pro\", \"Menlo\", monospace;;\n",
       "    font-size: 13px;\n",
       "    color: #555;\n",
       "    margin-left: 4px;\n",
       "    line-height: 19px;\n",
       "  }\n",
       "</style>\n",
       "<div class=\"ansiout\">Out[5]: [FileInfo(path=&#39;dbfs:/mnt/dataadls/GreenTaxiTripData_201812.csv&#39;, name=&#39;GreenTaxiTripData_201812.csv&#39;, size=62056490, modificationTime=1693799235000),\n",
       " FileInfo(path=&#39;dbfs:/mnt/dataadls/PaymentTypes.json&#39;, name=&#39;PaymentTypes.json&#39;, size=277, modificationTime=1693799227000),\n",
       " FileInfo(path=&#39;dbfs:/mnt/dataadls/RateCodes.csv&#39;, name=&#39;RateCodes.csv&#39;, size=139, modificationTime=1693799230000),\n",
       " FileInfo(path=&#39;dbfs:/mnt/dataadls/RateCodes.json&#39;, name=&#39;RateCodes.json&#39;, size=252, modificationTime=1693799227000),\n",
       " FileInfo(path=&#39;dbfs:/mnt/dataadls/TaxiZones.csv&#39;, name=&#39;TaxiZones.csv&#39;, size=12322, modificationTime=1693799227000),\n",
       " FileInfo(path=&#39;dbfs:/mnt/dataadls/YellowTaxiTripData_201812.csv&#39;, name=&#39;YellowTaxiTripData_201812.csv&#39;, size=721522221, modificationTime=1693799272000)]</div>"
      ]
     },
     "metadata": {
      "application/vnd.databricks.v1+output": {
       "addedWidgets": {},
       "arguments": {},
       "data": "<div class=\"ansiout\">Out[5]: [FileInfo(path=&#39;dbfs:/mnt/dataadls/GreenTaxiTripData_201812.csv&#39;, name=&#39;GreenTaxiTripData_201812.csv&#39;, size=62056490, modificationTime=1693799235000),\n FileInfo(path=&#39;dbfs:/mnt/dataadls/PaymentTypes.json&#39;, name=&#39;PaymentTypes.json&#39;, size=277, modificationTime=1693799227000),\n FileInfo(path=&#39;dbfs:/mnt/dataadls/RateCodes.csv&#39;, name=&#39;RateCodes.csv&#39;, size=139, modificationTime=1693799230000),\n FileInfo(path=&#39;dbfs:/mnt/dataadls/RateCodes.json&#39;, name=&#39;RateCodes.json&#39;, size=252, modificationTime=1693799227000),\n FileInfo(path=&#39;dbfs:/mnt/dataadls/TaxiZones.csv&#39;, name=&#39;TaxiZones.csv&#39;, size=12322, modificationTime=1693799227000),\n FileInfo(path=&#39;dbfs:/mnt/dataadls/YellowTaxiTripData_201812.csv&#39;, name=&#39;YellowTaxiTripData_201812.csv&#39;, size=721522221, modificationTime=1693799272000)]</div>",
       "datasetInfos": [],
       "metadata": {},
       "removedWidgets": [],
       "type": "html"
      }
     },
     "output_type": "display_data"
    }
   ],
   "source": [
    "# dbutils.fs.ls(\"/mnt/dataadls\")"
   ]
  },
  {
   "cell_type": "code",
   "execution_count": 0,
   "metadata": {
    "application/vnd.databricks.v1+cell": {
     "cellMetadata": {
      "byteLimit": 2048000,
      "rowLimit": 10000
     },
     "inputWidgets": {},
     "nuid": "75ac61a0-0bcb-444b-bde5-aa06a8fe0040",
     "showTitle": false,
     "title": ""
    }
   },
   "outputs": [
    {
     "output_type": "display_data",
     "data": {
      "text/html": [
       "<style scoped>\n",
       "  .ansiout {\n",
       "    display: block;\n",
       "    unicode-bidi: embed;\n",
       "    white-space: pre-wrap;\n",
       "    word-wrap: break-word;\n",
       "    word-break: break-all;\n",
       "    font-family: \"Source Code Pro\", \"Menlo\", monospace;;\n",
       "    font-size: 13px;\n",
       "    color: #555;\n",
       "    margin-left: 4px;\n",
       "    line-height: 19px;\n",
       "  }\n",
       "</style>\n",
       "<div class=\"ansiout\">Extracted Payment Types data\n",
       "</div>"
      ]
     },
     "metadata": {
      "application/vnd.databricks.v1+output": {
       "addedWidgets": {},
       "arguments": {},
       "data": "<div class=\"ansiout\">Extracted Payment Types data\n</div>",
       "datasetInfos": [],
       "metadata": {},
       "removedWidgets": [],
       "type": "html"
      }
     },
     "output_type": "display_data"
    }
   ],
   "source": [
    "paymentTypesDF = spark \\\n",
    "    .read \\\n",
    "    .json(\"/mnt/dataadls/PaymentTypes.json\")\n",
    "\n",
    "print(\"Extracted Payment Types data\")"
   ]
  },
  {
   "cell_type": "code",
   "execution_count": 0,
   "metadata": {
    "application/vnd.databricks.v1+cell": {
     "cellMetadata": {
      "byteLimit": 2048000,
      "rowLimit": 10000
     },
     "inputWidgets": {},
     "nuid": "3498c57b-904e-4801-8608-3f7e843f8402",
     "showTitle": false,
     "title": ""
    }
   },
   "outputs": [
    {
     "output_type": "display_data",
     "data": {
      "text/html": [
       "<style scoped>\n",
       "  .ansiout {\n",
       "    display: block;\n",
       "    unicode-bidi: embed;\n",
       "    white-space: pre-wrap;\n",
       "    word-wrap: break-word;\n",
       "    word-break: break-all;\n",
       "    font-family: \"Source Code Pro\", \"Menlo\", monospace;;\n",
       "    font-size: 13px;\n",
       "    color: #555;\n",
       "    margin-left: 4px;\n",
       "    line-height: 19px;\n",
       "  }\n",
       "</style>\n",
       "<div class=\"ansiout\">Out[9]: &lt;bound method DataFrame.printSchema of DataFrame[PaymentType: string, PaymentTypeID: bigint]&gt;</div>"
      ]
     },
     "metadata": {
      "application/vnd.databricks.v1+output": {
       "addedWidgets": {},
       "arguments": {},
       "data": "<div class=\"ansiout\">Out[9]: &lt;bound method DataFrame.printSchema of DataFrame[PaymentType: string, PaymentTypeID: bigint]&gt;</div>",
       "datasetInfos": [],
       "metadata": {},
       "removedWidgets": [],
       "type": "html"
      }
     },
     "output_type": "display_data"
    }
   ],
   "source": [
    "# paymentTypesDF.printSchema"
   ]
  },
  {
   "cell_type": "code",
   "execution_count": 0,
   "metadata": {
    "application/vnd.databricks.v1+cell": {
     "cellMetadata": {
      "byteLimit": 2048000,
      "rowLimit": 10000
     },
     "inputWidgets": {},
     "nuid": "20af6b18-98b6-4377-907a-547572309cce",
     "showTitle": false,
     "title": ""
    }
   },
   "outputs": [
    {
     "output_type": "display_data",
     "data": {
      "text/html": [
       "<style scoped>\n",
       "  .table-result-container {\n",
       "    max-height: 300px;\n",
       "    overflow: auto;\n",
       "  }\n",
       "  table, th, td {\n",
       "    border: 1px solid black;\n",
       "    border-collapse: collapse;\n",
       "  }\n",
       "  th, td {\n",
       "    padding: 5px;\n",
       "  }\n",
       "  th {\n",
       "    text-align: left;\n",
       "  }\n",
       "</style><div class='table-result-container'><table class='table-result'><thead style='background-color: white'><tr><th>PaymentType</th><th>PaymentTypeID</th></tr></thead><tbody><tr><td>Credit Card</td><td>1</td></tr><tr><td>Cash</td><td>2</td></tr><tr><td>No Charge</td><td>3</td></tr><tr><td>Dispute</td><td>4</td></tr><tr><td>Unknown</td><td>5</td></tr><tr><td>Voided Trip</td><td>6</td></tr></tbody></table></div>"
      ]
     },
     "metadata": {
      "application/vnd.databricks.v1+output": {
       "addedWidgets": {},
       "aggData": [],
       "aggError": "",
       "aggOverflow": false,
       "aggSchema": [],
       "aggSeriesLimitReached": false,
       "aggType": "",
       "arguments": {},
       "columnCustomDisplayInfos": {},
       "data": [
        [
         "Credit Card",
         1
        ],
        [
         "Cash",
         2
        ],
        [
         "No Charge",
         3
        ],
        [
         "Dispute",
         4
        ],
        [
         "Unknown",
         5
        ],
        [
         "Voided Trip",
         6
        ]
       ],
       "datasetInfos": [],
       "dbfsResultPath": null,
       "isJsonSchema": true,
       "metadata": {},
       "overflow": false,
       "plotOptions": {
        "customPlotOptions": {},
        "displayType": "table",
        "pivotAggregation": null,
        "pivotColumns": null,
        "xColumns": null,
        "yColumns": null
       },
       "removedWidgets": [],
       "schema": [
        {
         "metadata": "{}",
         "name": "PaymentType",
         "type": "\"string\""
        },
        {
         "metadata": "{}",
         "name": "PaymentTypeID",
         "type": "\"long\""
        }
       ],
       "type": "table"
      }
     },
     "output_type": "display_data"
    }
   ],
   "source": [
    "# display(paymentTypesDF)"
   ]
  },
  {
   "cell_type": "code",
   "execution_count": 0,
   "metadata": {
    "application/vnd.databricks.v1+cell": {
     "cellMetadata": {
      "byteLimit": 2048000,
      "rowLimit": 10000
     },
     "inputWidgets": {},
     "nuid": "93bd0b13-53ca-4461-a098-e6dce353a715",
     "showTitle": false,
     "title": ""
    }
   },
   "outputs": [
    {
     "output_type": "display_data",
     "data": {
      "text/html": [
       "<style scoped>\n",
       "  .ansiout {\n",
       "    display: block;\n",
       "    unicode-bidi: embed;\n",
       "    white-space: pre-wrap;\n",
       "    word-wrap: break-word;\n",
       "    word-break: break-all;\n",
       "    font-family: \"Source Code Pro\", \"Menlo\", monospace;;\n",
       "    font-size: 13px;\n",
       "    color: #555;\n",
       "    margin-left: 4px;\n",
       "    line-height: 19px;\n",
       "  }\n",
       "</style>\n",
       "<div class=\"ansiout\">Saved Payment Types dimension as a global temp view\n",
       "</div>"
      ]
     },
     "metadata": {
      "application/vnd.databricks.v1+output": {
       "addedWidgets": {},
       "arguments": {},
       "data": "<div class=\"ansiout\">Saved Payment Types dimension as a global temp view\n</div>",
       "datasetInfos": [],
       "metadata": {},
       "removedWidgets": [],
       "type": "html"
      }
     },
     "output_type": "display_data"
    }
   ],
   "source": [
    "paymentTypesDF.createOrReplaceGlobalTempView(\"DimPaymentTypes\")\n",
    "# paymentTypesDF.createOrReplaceTempView(\"paymentTempView\")\n",
    "\n",
    "print(\"Saved Payment Types dimension as a global temp view\")"
   ]
  },
  {
   "cell_type": "code",
   "execution_count": 0,
   "metadata": {
    "application/vnd.databricks.v1+cell": {
     "cellMetadata": {
      "implicitDf": true
     },
     "inputWidgets": {},
     "nuid": "6e08f596-539f-45fc-bbda-13fe6641ab4d",
     "showTitle": false,
     "title": ""
    }
   },
   "outputs": [
    {
     "output_type": "display_data",
     "data": {
      "text/html": [
       "<style scoped>\n",
       "  .table-result-container {\n",
       "    max-height: 300px;\n",
       "    overflow: auto;\n",
       "  }\n",
       "  table, th, td {\n",
       "    border: 1px solid black;\n",
       "    border-collapse: collapse;\n",
       "  }\n",
       "  th, td {\n",
       "    padding: 5px;\n",
       "  }\n",
       "  th {\n",
       "    text-align: left;\n",
       "  }\n",
       "</style><div class='table-result-container'><table class='table-result'><thead style='background-color: white'><tr><th>BaseLicenseNumber</th><th>EntityName</th><th>TelephoneNumber</th><th>ShlEndorsed</th><th>BaseType</th><th>AddressBuilding</th><th>AddressStreet</th><th>AddressCity</th><th>AddressState</th><th>AddressPostCode</th><th>GeoLocationLatitude</th><th>GeoLocationLongitude</th><th>GeoLocationLocation</th></tr></thead><tbody><tr><td>B02865</td><td>VIER-NY,LLC</td><td>6466657536</td><td>No</td><td>BLACK CAR BASE</td><td>636</td><td>WEST   28 STREET</td><td>NEW YORK</td><td>NY</td><td>10001</td><td>40.75273</td><td>-74.006408</td><td>(40.75273, -74.006408)</td></tr><tr><td>B02634</td><td>VETERANS RADIO DISPATCHER CORP.</td><td>7183647878</td><td>No</td><td>LIVERY BASE</td><td>131</td><td>KINGSBRIDGE ROAD</td><td>BRONX</td><td>NY</td><td>10468</td><td>40.86927</td><td>-73.90281</td><td>(40.86927, -73.90281)</td></tr><tr><td>B80094</td><td>ALPHA VAN LINE</td><td>5162850750</td><td>No</td><td>COMMUTER VAN AUTHORITY BASE</td><td>115-54</td><td>238 STREET</td><td>ELMONT</td><td>NY</td><td>11003</td><td>40.693473</td><td>-73.724446</td><td>(40.693473, -73.724446)</td></tr><tr><td>B02677</td><td>A.T.B. CAR AND LIMOUSINE SERVICE, INC.</td><td>7184854444</td><td>No</td><td>LIVERY BASE</td><td>866</td><td>NEW LOTS AVENUE</td><td>BROOKLYN</td><td>NY</td><td>11208</td><td>40.667838</td><td>-73.8788</td><td>(40.667838, -73.8788)</td></tr><tr><td>B02152</td><td>KYOEI LIMOUSINE, INC.</td><td>7183263258</td><td>No</td><td>LUXURY/LIMOUSINE</td><td>57-48</td><td>MASPETH AVENUE</td><td>MASPETH</td><td>NY</td><td>11378</td><td>40.722961</td><td>-73.91031</td><td>(40.722961, -73.91031)</td></tr><tr><td>B02844</td><td>ENDOR CAR & DRIVER,LLC.</td><td>4154758459</td><td>No</td><td>BLACK CAR BASE</td><td>31-00</td><td>47 AVENUE  SUITE # 4123A</td><td>LIC</td><td>NY</td><td>11101</td><td>40.742082</td><td>-73.93552</td><td>(40.742082, -73.93552)</td></tr><tr><td>B02841</td><td>SKYWAY EXECUTIVE SERVICE, INC</td><td>7183595959</td><td>No</td><td>BLACK CAR BASE</td><td>68-20A</td><td>FRESH MEADOW LANE</td><td>FRESH MEADOWS</td><td>NY</td><td>11365</td><td>40.733337</td><td>-73.794706</td><td>(40.733337, -73.794706)</td></tr><tr><td>B00472</td><td>FARRELL'S LEASING CO.</td><td>2128616300</td><td>No</td><td>LUXURY/LIMOUSINE</td><td>22-11</td><td>38 AVENUE</td><td>LIC</td><td>NY</td><td>11101</td><td>40.757077</td><td>-73.937504</td><td>(40.757077, -73.937504)</td></tr><tr><td>B01739</td><td>CITY CAR SERVICE CORP</td><td>7184182222</td><td>No</td><td>LIVERY BASE</td><td>429</td><td>SUTTER AVENUE</td><td>BROOKLYN</td><td>NY</td><td>11212</td><td>40.668473</td><td>-73.903383</td><td>(40.668473, -73.903383)</td></tr><tr><td>B00248</td><td>YELLOWSTONE TRANSPORTATION INC.</td><td>7185397777</td><td>No</td><td>LIVERY BASE</td><td>41-31</td><td>MAIN STREET</td><td>FLUSHING</td><td>NY</td><td>11355</td><td>40.758114</td><td>-73.82962</td><td>(40.758114, -73.82962)</td></tr></tbody></table></div>"
      ]
     },
     "metadata": {
      "application/vnd.databricks.v1+output": {
       "addedWidgets": {},
       "aggData": [],
       "aggError": "",
       "aggOverflow": false,
       "aggSchema": [],
       "aggSeriesLimitReached": false,
       "aggType": "",
       "arguments": {},
       "columnCustomDisplayInfos": {},
       "data": [
        [
         "B02865",
         "VIER-NY,LLC",
         6466657536,
         "No",
         "BLACK CAR BASE",
         "636",
         "WEST   28 STREET",
         "NEW YORK",
         "NY",
         "10001",
         "40.75273",
         "-74.006408",
         "(40.75273, -74.006408)"
        ],
        [
         "B02634",
         "VETERANS RADIO DISPATCHER CORP.",
         7183647878,
         "No",
         "LIVERY BASE",
         "131",
         "KINGSBRIDGE ROAD",
         "BRONX",
         "NY",
         "10468",
         "40.86927",
         "-73.90281",
         "(40.86927, -73.90281)"
        ],
        [
         "B80094",
         "ALPHA VAN LINE",
         5162850750,
         "No",
         "COMMUTER VAN AUTHORITY BASE",
         "115-54",
         "238 STREET",
         "ELMONT",
         "NY",
         "11003",
         "40.693473",
         "-73.724446",
         "(40.693473, -73.724446)"
        ],
        [
         "B02677",
         "A.T.B. CAR AND LIMOUSINE SERVICE, INC.",
         7184854444,
         "No",
         "LIVERY BASE",
         "866",
         "NEW LOTS AVENUE",
         "BROOKLYN",
         "NY",
         "11208",
         "40.667838",
         "-73.8788",
         "(40.667838, -73.8788)"
        ],
        [
         "B02152",
         "KYOEI LIMOUSINE, INC.",
         7183263258,
         "No",
         "LUXURY/LIMOUSINE",
         "57-48",
         "MASPETH AVENUE",
         "MASPETH",
         "NY",
         "11378",
         "40.722961",
         "-73.91031",
         "(40.722961, -73.91031)"
        ],
        [
         "B02844",
         "ENDOR CAR & DRIVER,LLC.",
         4154758459,
         "No",
         "BLACK CAR BASE",
         "31-00",
         "47 AVENUE  SUITE # 4123A",
         "LIC",
         "NY",
         "11101",
         "40.742082",
         "-73.93552",
         "(40.742082, -73.93552)"
        ],
        [
         "B02841",
         "SKYWAY EXECUTIVE SERVICE, INC",
         7183595959,
         "No",
         "BLACK CAR BASE",
         "68-20A",
         "FRESH MEADOW LANE",
         "FRESH MEADOWS",
         "NY",
         "11365",
         "40.733337",
         "-73.794706",
         "(40.733337, -73.794706)"
        ],
        [
         "B00472",
         "FARRELL'S LEASING CO.",
         2128616300,
         "No",
         "LUXURY/LIMOUSINE",
         "22-11",
         "38 AVENUE",
         "LIC",
         "NY",
         "11101",
         "40.757077",
         "-73.937504",
         "(40.757077, -73.937504)"
        ],
        [
         "B01739",
         "CITY CAR SERVICE CORP",
         7184182222,
         "No",
         "LIVERY BASE",
         "429",
         "SUTTER AVENUE",
         "BROOKLYN",
         "NY",
         "11212",
         "40.668473",
         "-73.903383",
         "(40.668473, -73.903383)"
        ],
        [
         "B00248",
         "YELLOWSTONE TRANSPORTATION INC.",
         7185397777,
         "No",
         "LIVERY BASE",
         "41-31",
         "MAIN STREET",
         "FLUSHING",
         "NY",
         "11355",
         "40.758114",
         "-73.82962",
         "(40.758114, -73.82962)"
        ]
       ],
       "datasetInfos": [],
       "dbfsResultPath": null,
       "isJsonSchema": true,
       "metadata": {},
       "overflow": false,
       "plotOptions": {
        "customPlotOptions": {},
        "displayType": "table",
        "pivotAggregation": null,
        "pivotColumns": null,
        "xColumns": null,
        "yColumns": null
       },
       "removedWidgets": [],
       "schema": [
        {
         "metadata": "{}",
         "name": "BaseLicenseNumber",
         "type": "\"string\""
        },
        {
         "metadata": "{}",
         "name": "EntityName",
         "type": "\"string\""
        },
        {
         "metadata": "{}",
         "name": "TelephoneNumber",
         "type": "\"long\""
        },
        {
         "metadata": "{}",
         "name": "ShlEndorsed",
         "type": "\"string\""
        },
        {
         "metadata": "{}",
         "name": "BaseType",
         "type": "\"string\""
        },
        {
         "metadata": "{}",
         "name": "AddressBuilding",
         "type": "\"string\""
        },
        {
         "metadata": "{}",
         "name": "AddressStreet",
         "type": "\"string\""
        },
        {
         "metadata": "{}",
         "name": "AddressCity",
         "type": "\"string\""
        },
        {
         "metadata": "{}",
         "name": "AddressState",
         "type": "\"string\""
        },
        {
         "metadata": "{}",
         "name": "AddressPostCode",
         "type": "\"string\""
        },
        {
         "metadata": "{}",
         "name": "GeoLocationLatitude",
         "type": "\"string\""
        },
        {
         "metadata": "{}",
         "name": "GeoLocationLongitude",
         "type": "\"string\""
        },
        {
         "metadata": "{}",
         "name": "GeoLocationLocation",
         "type": "\"string\""
        }
       ],
       "type": "table"
      }
     },
     "output_type": "display_data"
    }
   ],
   "source": []
  },
  {
   "cell_type": "code",
   "execution_count": 0,
   "metadata": {
    "application/vnd.databricks.v1+cell": {
     "cellMetadata": {
      "byteLimit": 2048000,
      "rowLimit": 10000
     },
     "inputWidgets": {},
     "nuid": "f7158ded-0df9-4c17-a869-bc11ce46aeaf",
     "showTitle": false,
     "title": ""
    }
   },
   "outputs": [
    {
     "output_type": "display_data",
     "data": {
      "text/html": [
       "<style scoped>\n",
       "  .ansiout {\n",
       "    display: block;\n",
       "    unicode-bidi: embed;\n",
       "    white-space: pre-wrap;\n",
       "    word-wrap: break-word;\n",
       "    word-break: break-all;\n",
       "    font-family: \"Source Code Pro\", \"Menlo\", monospace;;\n",
       "    font-size: 13px;\n",
       "    color: #555;\n",
       "    margin-left: 4px;\n",
       "    line-height: 19px;\n",
       "  }\n",
       "</style>\n",
       "<div class=\"ansiout\">Saved Payment Types dataframe as a dimension and unmanaged table\n",
       "</div>"
      ]
     },
     "metadata": {
      "application/vnd.databricks.v1+output": {
       "addedWidgets": {},
       "arguments": {},
       "data": "<div class=\"ansiout\">Saved Payment Types dataframe as a dimension and unmanaged table\n</div>",
       "datasetInfos": [],
       "metadata": {},
       "removedWidgets": [],
       "type": "html"
      }
     },
     "output_type": "display_data"
    }
   ],
   "source": [
    "# Store the DataFrame as an Unmanaged Table\n",
    "paymentTypesDF \\\n",
    "    .write \\\n",
    "    .mode(\"overwrite\") \\\n",
    "    .option(\"path\", \"/mnt/datalake/DimensionalModel/Dimensions/PaymentTypesDimension.parquet\") \\\n",
    "    .saveAsTable(\"TaxiServiceWarehouse.DimPaymentTypes\") \n",
    "\n",
    "print(\"Saved Payment Types dataframe as a dimension and unmanaged table\")"
   ]
  },
  {
   "cell_type": "code",
   "execution_count": 0,
   "metadata": {
    "application/vnd.databricks.v1+cell": {
     "cellMetadata": {
      "byteLimit": 2048000,
      "rowLimit": 10000
     },
     "inputWidgets": {},
     "nuid": "a78016f3-5fd9-4e15-9b97-3fcbe99d5350",
     "showTitle": false,
     "title": ""
    }
   },
   "outputs": [],
   "source": [
    "dbutils.notebook.exit(\"Success\")"
   ]
  },
  {
   "cell_type": "code",
   "execution_count": 0,
   "metadata": {
    "application/vnd.databricks.v1+cell": {
     "cellMetadata": {},
     "inputWidgets": {},
     "nuid": "e8edeb87-a642-4b10-92a3-8a95206fcca2",
     "showTitle": false,
     "title": ""
    }
   },
   "outputs": [],
   "source": []
  }
 ],
 "metadata": {
  "application/vnd.databricks.v1+notebook": {
   "dashboards": [],
   "language": "python",
   "notebookMetadata": {
    "mostRecentlyExecutedCommandWithImplicitDF": {
     "commandId": 2023799239252123,
     "dataframes": [
      "_sqldf"
     ]
    },
    "pythonIndentUnit": 4
   },
   "notebookName": "DimPaymentTypes",
   "widgets": {}
  }
 },
 "nbformat": 4,
 "nbformat_minor": 0
}
