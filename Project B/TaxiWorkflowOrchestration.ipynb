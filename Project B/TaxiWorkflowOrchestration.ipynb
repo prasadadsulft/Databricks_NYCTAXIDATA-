{
 "cells": [
  {
   "cell_type": "code",
   "execution_count": 0,
   "metadata": {
    "application/vnd.databricks.v1+cell": {
     "cellMetadata": {
      "byteLimit": 2048000,
      "rowLimit": 10000
     },
     "inputWidgets": {},
     "nuid": "00d3a152-36fe-4b78-a913-dbdae9ebae75",
     "showTitle": false,
     "title": ""
    }
   },
   "outputs": [
    {
     "output_type": "display_data",
     "data": {
      "text/html": [
       "<style scoped>\n",
       "  .ansiout {\n",
       "    display: block;\n",
       "    unicode-bidi: embed;\n",
       "    white-space: pre-wrap;\n",
       "    word-wrap: break-word;\n",
       "    word-break: break-all;\n",
       "    font-family: \"Source Code Pro\", \"Menlo\", monospace;;\n",
       "    font-size: 13px;\n",
       "    color: #555;\n",
       "    margin-left: 4px;\n",
       "    line-height: 19px;\n",
       "  }\n",
       "</style>\n",
       "<div class=\"ansiout\"></div>"
      ]
     },
     "metadata": {
      "application/vnd.databricks.v1+output": {
       "addedWidgets": {},
       "arguments": {},
       "data": "<div class=\"ansiout\"></div>",
       "datasetInfos": [],
       "metadata": {},
       "removedWidgets": [],
       "type": "html"
      }
     },
     "output_type": "display_data"
    }
   ],
   "source": [
    "dbutils.widgets.text(\"ProcessMonth\", \"201812\", \"Process Month (yyyymm)\")\n",
    "\n",
    "processMonth = dbutils.widgets.get(\"ProcessMonth\")"
   ]
  },
  {
   "cell_type": "code",
   "execution_count": 0,
   "metadata": {
    "application/vnd.databricks.v1+cell": {
     "cellMetadata": {
      "byteLimit": 2048000,
      "rowLimit": 10000
     },
     "inputWidgets": {},
     "nuid": "84c284d0-21c8-45d0-a059-0a0d12a893de",
     "showTitle": false,
     "title": ""
    }
   },
   "outputs": [
    {
     "output_type": "display_data",
     "data": {
      "text/html": [
       "<style scoped>\n",
       "  .ansiout {\n",
       "    display: block;\n",
       "    unicode-bidi: embed;\n",
       "    white-space: pre-wrap;\n",
       "    word-wrap: break-word;\n",
       "    word-break: break-all;\n",
       "    font-family: \"Source Code Pro\", \"Menlo\", monospace;;\n",
       "    font-size: 13px;\n",
       "    color: #555;\n",
       "    margin-left: 4px;\n",
       "    line-height: 19px;\n",
       "  }\n",
       "</style>\n",
       "<div class=\"ansiout\"></div>"
      ]
     },
     "metadata": {
      "application/vnd.databricks.v1+output": {
       "addedWidgets": {},
       "arguments": {},
       "data": "<div class=\"ansiout\"></div>",
       "datasetInfos": [],
       "metadata": {},
       "removedWidgets": [],
       "type": "html"
      }
     },
     "output_type": "display_data"
    }
   ],
   "source": [
    "# Create a parameter mapping to be passed to the called notebook\n",
    "\n",
    "# Invoke all fact notebooks\n",
    "status = dbutils.notebook.run(\"Facts/FactFHVTaxiTripDataNB\", 1000, {\"processMonth\":processMonth})\n",
    "status = dbutils.notebook.run(\"Facts/FactYellowTaxiTripData\", 300, {\"processMonth\":processMonth})\n",
    "status = dbutils.notebook.run(\"Facts/FactGreenTaxiTripData\", 300, {\"processMonth\":processMonth})\n",
    "\n",
    "# Invoke all dimension notebooks\n",
    "status = dbutils.notebook.run(\"Dimensions/DimTaxiZones\", 60)\n",
    "status = dbutils.notebook.run(\"Dimensions/DimRateCodes\", 60)\n",
    "status = dbutils.notebook.run(\"Dimensions/DimPaymentTypes\", 60)\n",
    "status = dbutils.notebook.run(\"Dimensions/DimBases\", 60)"
   ]
  },
  {
   "cell_type": "code",
   "execution_count": 0,
   "metadata": {
    "application/vnd.databricks.v1+cell": {
     "cellMetadata": {
      "byteLimit": 2048000,
      "rowLimit": 10000
     },
     "inputWidgets": {},
     "nuid": "3838e02b-ca8c-4432-b07d-fff0479f94a1",
     "showTitle": false,
     "title": ""
    }
   },
   "outputs": [],
   "source": []
  }
 ],
 "metadata": {
  "application/vnd.databricks.v1+notebook": {
   "dashboards": [],
   "language": "python",
   "notebookMetadata": {
    "pythonIndentUnit": 4
   },
   "notebookName": "TaxiWorkflowOrchestration",
   "widgets": {
    "ProcessMonth": {
     "currentValue": "201812",
     "nuid": "e3400195-0d04-4d52-aa6c-ce13ac3972e8",
     "widgetInfo": {
      "widgetType": "text",
      "defaultValue": "201812",
      "label": "Process Month (yyyymm)",
      "name": "ProcessMonth",
      "options": {
       "widgetType": "text",
       "validationRegex": null
      }
     }
    }
   }
  }
 },
 "nbformat": 4,
 "nbformat_minor": 0
}
