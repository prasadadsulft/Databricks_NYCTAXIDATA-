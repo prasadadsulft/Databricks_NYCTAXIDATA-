{
 "cells": [
  {
   "cell_type": "markdown",
   "metadata": {
    "application/vnd.databricks.v1+cell": {
     "cellMetadata": {},
     "inputWidgets": {},
     "nuid": "bec7c1d8-59a8-458a-b80a-31128ab3a609",
     "showTitle": false,
     "title": ""
    }
   },
   "source": [
    "### Green Taxi Data\n",
    "Extract, transform and Load Green Taxi Data for the month\n",
    "\n",
    "Creating facts and register as Global temp"
   ]
  },
  {
   "cell_type": "code",
   "execution_count": 0,
   "metadata": {
    "application/vnd.databricks.v1+cell": {
     "cellMetadata": {
      "byteLimit": 2048000,
      "rowLimit": 10000
     },
     "inputWidgets": {},
     "nuid": "1f499c77-982c-45e2-b4b5-87521862c335",
     "showTitle": false,
     "title": ""
    }
   },
   "outputs": [
    {
     "output_type": "display_data",
     "data": {
      "text/html": [
       "<style scoped>\n",
       "  .ansiout {\n",
       "    display: block;\n",
       "    unicode-bidi: embed;\n",
       "    white-space: pre-wrap;\n",
       "    word-wrap: break-word;\n",
       "    word-break: break-all;\n",
       "    font-family: \"Source Code Pro\", \"Menlo\", monospace;;\n",
       "    font-size: 13px;\n",
       "    color: #555;\n",
       "    margin-left: 4px;\n",
       "    line-height: 19px;\n",
       "  }\n",
       "</style>\n",
       "<div class=\"ansiout\">Out[2]: [FileInfo(path=&#39;dbfs:/mnt/dataadls/GreenTaxiTripData_201812.csv&#39;, name=&#39;GreenTaxiTripData_201812.csv&#39;, size=62056490, modificationTime=1693799235000),\n",
       " FileInfo(path=&#39;dbfs:/mnt/dataadls/PaymentTypes.json&#39;, name=&#39;PaymentTypes.json&#39;, size=277, modificationTime=1693799227000),\n",
       " FileInfo(path=&#39;dbfs:/mnt/dataadls/RateCodes.csv&#39;, name=&#39;RateCodes.csv&#39;, size=139, modificationTime=1693799230000),\n",
       " FileInfo(path=&#39;dbfs:/mnt/dataadls/RateCodes.json&#39;, name=&#39;RateCodes.json&#39;, size=252, modificationTime=1693799227000),\n",
       " FileInfo(path=&#39;dbfs:/mnt/dataadls/TaxiZones.csv&#39;, name=&#39;TaxiZones.csv&#39;, size=12322, modificationTime=1693799227000),\n",
       " FileInfo(path=&#39;dbfs:/mnt/dataadls/YellowTaxiTripData_201812.csv&#39;, name=&#39;YellowTaxiTripData_201812.csv&#39;, size=721522221, modificationTime=1693799272000)]</div>"
      ]
     },
     "metadata": {
      "application/vnd.databricks.v1+output": {
       "addedWidgets": {},
       "arguments": {},
       "data": "<div class=\"ansiout\">Out[2]: [FileInfo(path=&#39;dbfs:/mnt/dataadls/GreenTaxiTripData_201812.csv&#39;, name=&#39;GreenTaxiTripData_201812.csv&#39;, size=62056490, modificationTime=1693799235000),\n FileInfo(path=&#39;dbfs:/mnt/dataadls/PaymentTypes.json&#39;, name=&#39;PaymentTypes.json&#39;, size=277, modificationTime=1693799227000),\n FileInfo(path=&#39;dbfs:/mnt/dataadls/RateCodes.csv&#39;, name=&#39;RateCodes.csv&#39;, size=139, modificationTime=1693799230000),\n FileInfo(path=&#39;dbfs:/mnt/dataadls/RateCodes.json&#39;, name=&#39;RateCodes.json&#39;, size=252, modificationTime=1693799227000),\n FileInfo(path=&#39;dbfs:/mnt/dataadls/TaxiZones.csv&#39;, name=&#39;TaxiZones.csv&#39;, size=12322, modificationTime=1693799227000),\n FileInfo(path=&#39;dbfs:/mnt/dataadls/YellowTaxiTripData_201812.csv&#39;, name=&#39;YellowTaxiTripData_201812.csv&#39;, size=721522221, modificationTime=1693799272000)]</div>",
       "datasetInfos": [],
       "metadata": {},
       "removedWidgets": [],
       "type": "html"
      }
     },
     "output_type": "display_data"
    }
   ],
   "source": [
    "dbutils.fs.ls(\"/mnt/dataadls/\")"
   ]
  },
  {
   "cell_type": "code",
   "execution_count": 0,
   "metadata": {
    "application/vnd.databricks.v1+cell": {
     "cellMetadata": {
      "byteLimit": 2048000,
      "rowLimit": 10000
     },
     "inputWidgets": {},
     "nuid": "21648821-a0fb-4018-81b5-1c2ddeba5e5b",
     "showTitle": false,
     "title": ""
    }
   },
   "outputs": [
    {
     "output_type": "display_data",
     "data": {
      "text/html": [
       "<style scoped>\n",
       "  .ansiout {\n",
       "    display: block;\n",
       "    unicode-bidi: embed;\n",
       "    white-space: pre-wrap;\n",
       "    word-wrap: break-word;\n",
       "    word-break: break-all;\n",
       "    font-family: \"Source Code Pro\", \"Menlo\", monospace;;\n",
       "    font-size: 13px;\n",
       "    color: #555;\n",
       "    margin-left: 4px;\n",
       "    line-height: 19px;\n",
       "  }\n",
       "</style>\n",
       "<div class=\"ansiout\"></div>"
      ]
     },
     "metadata": {
      "application/vnd.databricks.v1+output": {
       "addedWidgets": {},
       "arguments": {},
       "data": "<div class=\"ansiout\"></div>",
       "datasetInfos": [],
       "metadata": {},
       "removedWidgets": [],
       "type": "html"
      }
     },
     "output_type": "display_data"
    }
   ],
   "source": [
    "from pyspark.sql.functions import *\n",
    "from pyspark.sql.types import *"
   ]
  },
  {
   "cell_type": "code",
   "execution_count": 0,
   "metadata": {
    "application/vnd.databricks.v1+cell": {
     "cellMetadata": {
      "byteLimit": 2048000,
      "rowLimit": 10000
     },
     "inputWidgets": {},
     "nuid": "c0be033e-fc57-4382-a683-3fffedf55785",
     "showTitle": false,
     "title": ""
    }
   },
   "outputs": [
    {
     "output_type": "display_data",
     "data": {
      "text/html": [
       "<style scoped>\n",
       "  .ansiout {\n",
       "    display: block;\n",
       "    unicode-bidi: embed;\n",
       "    white-space: pre-wrap;\n",
       "    word-wrap: break-word;\n",
       "    word-break: break-all;\n",
       "    font-family: \"Source Code Pro\", \"Menlo\", monospace;;\n",
       "    font-size: 13px;\n",
       "    color: #555;\n",
       "    margin-left: 4px;\n",
       "    line-height: 19px;\n",
       "  }\n",
       "</style>\n",
       "<div class=\"ansiout\"></div>"
      ]
     },
     "metadata": {
      "application/vnd.databricks.v1+output": {
       "addedWidgets": {},
       "arguments": {},
       "data": "<div class=\"ansiout\"></div>",
       "datasetInfos": [],
       "metadata": {},
       "removedWidgets": [],
       "type": "html"
      }
     },
     "output_type": "display_data"
    }
   ],
   "source": [
    "dbutils.widgets.text(\"ProcessMonth\",\"201812\",\"Process Month (yyyymm)\")"
   ]
  },
  {
   "cell_type": "code",
   "execution_count": 0,
   "metadata": {
    "application/vnd.databricks.v1+cell": {
     "cellMetadata": {},
     "inputWidgets": {},
     "nuid": "f191945c-32a6-4d83-904e-28067e8d07b8",
     "showTitle": false,
     "title": ""
    }
   },
   "outputs": [],
   "source": [
    "processMonth = dbutils.widgets.get(\"ProcessMonth\")"
   ]
  },
  {
   "cell_type": "code",
   "execution_count": 0,
   "metadata": {
    "application/vnd.databricks.v1+cell": {
     "cellMetadata": {
      "byteLimit": 2048000,
      "rowLimit": 10000
     },
     "inputWidgets": {},
     "nuid": "c5d4c78c-7fff-4148-8c74-363243e46fac",
     "showTitle": false,
     "title": ""
    }
   },
   "outputs": [
    {
     "output_type": "display_data",
     "data": {
      "text/html": [
       "<style scoped>\n",
       "  .ansiout {\n",
       "    display: block;\n",
       "    unicode-bidi: embed;\n",
       "    white-space: pre-wrap;\n",
       "    word-wrap: break-word;\n",
       "    word-break: break-all;\n",
       "    font-family: \"Source Code Pro\", \"Menlo\", monospace;;\n",
       "    font-size: 13px;\n",
       "    color: #555;\n",
       "    margin-left: 4px;\n",
       "    line-height: 19px;\n",
       "  }\n",
       "</style>\n",
       "<div class=\"ansiout\">Starting to extract Green Taxi data\n",
       "Extracted and cleaned Green Taxi data\n",
       "</div>"
      ]
     },
     "metadata": {
      "application/vnd.databricks.v1+output": {
       "addedWidgets": {},
       "arguments": {},
       "data": "<div class=\"ansiout\">Starting to extract Green Taxi data\nExtracted and cleaned Green Taxi data\n</div>",
       "datasetInfos": [],
       "metadata": {},
       "removedWidgets": [],
       "type": "html"
      }
     },
     "output_type": "display_data"
    }
   ],
   "source": [
    "print(\"Starting to extract Green Taxi data\")\n",
    "\n",
    "greenTaxiTripDataDF = spark \\\n",
    "                    .read \\\n",
    "                    .option(\"header\", \"true\") \\\n",
    "                    .option(\"inferSchema\", \"true\") \\\n",
    "                    .option(\"delimiter\", \"\\t\") \\\n",
    "                    .csv(\"dbfs:/mnt/dataadls/GreenTaxiTripData_201812.csv\")\n",
    "\n",
    "greenTaxiTripDataDF = greenTaxiTripDataDF \\\n",
    "                            .where(\"passenger_count > 0\") \\\n",
    "                            .filter(\"trip_distance > 0.0\") \\\n",
    "                            .na.drop(subset=(\"PULocationID\", \"DOLocationID\"),how=\"any\") \\\n",
    "                            .na.fill(value=5,subset=[\"payment_type\"]) \\\n",
    "                            .na.fill(value=1,subset=[\"RatecodeID\"]) \\\n",
    "                            .dropDuplicates()                              \n",
    "\n",
    "print(\"Extracted and cleaned Green Taxi data\")"
   ]
  },
  {
   "cell_type": "code",
   "execution_count": 0,
   "metadata": {
    "application/vnd.databricks.v1+cell": {
     "cellMetadata": {
      "byteLimit": 2048000,
      "rowLimit": 10000
     },
     "inputWidgets": {},
     "nuid": "1b27bc5b-c50b-43e2-b7d7-6015593872db",
     "showTitle": false,
     "title": ""
    }
   },
   "outputs": [
    {
     "output_type": "display_data",
     "data": {
      "text/html": [
       "<style scoped>\n",
       "  .ansiout {\n",
       "    display: block;\n",
       "    unicode-bidi: embed;\n",
       "    white-space: pre-wrap;\n",
       "    word-wrap: break-word;\n",
       "    word-break: break-all;\n",
       "    font-family: \"Source Code Pro\", \"Menlo\", monospace;;\n",
       "    font-size: 13px;\n",
       "    color: #555;\n",
       "    margin-left: 4px;\n",
       "    line-height: 19px;\n",
       "  }\n",
       "</style>\n",
       "<div class=\"ansiout\">Starting transformation on Green Taxi data\n",
       "Applied transformations on Green Taxi data\n",
       "</div>"
      ]
     },
     "metadata": {
      "application/vnd.databricks.v1+output": {
       "addedWidgets": {},
       "arguments": {},
       "data": "<div class=\"ansiout\">Starting transformation on Green Taxi data\nApplied transformations on Green Taxi data\n</div>",
       "datasetInfos": [],
       "metadata": {},
       "removedWidgets": [],
       "type": "html"
      }
     },
     "output_type": "display_data"
    }
   ],
   "source": [
    "print(\"Starting transformation on Green Taxi data\")\n",
    "\n",
    "# Apply transformations to Green taxi data\n",
    "greenTaxiTripDataDF = greenTaxiTripDataDF \\\n",
    "                            .select(\n",
    "                                  col(\"VendorID\"),\n",
    "                                  col(\"passenger_count\").alias(\"PassengerCount\"),\n",
    "                                  col(\"trip_distance\").alias(\"TripDistance\"),\n",
    "                                  col(\"lpep_pickup_datetime\").alias(\"PickupTime\"),                          \n",
    "                                  col(\"lpep_dropoff_datetime\").alias(\"DropTime\"), \n",
    "                                  col(\"PUlocationID\").alias(\"PickupLocationId\"), \n",
    "                                  col(\"DOlocationID\").alias(\"DropLocationId\"), \n",
    "                                  col(\"RatecodeID\"), \n",
    "                                  col(\"total_amount\").alias(\"TotalAmount\"),\n",
    "                                  col(\"payment_type\").alias(\"PaymentType\")\n",
    "                               ) \\\n",
    "                        .withColumn(\"TripYear\", year(\"PickupTime\")) \\\n",
    "                        .withColumn(\"TripMonth\", month(\"PickupTime\")) \\\n",
    "                        .withColumn(\"TripDay\", dayofmonth(\"PickupTime\")) \\\n",
    "                        .withColumn(\"TripTimeInMinutes\", \n",
    "                                        round(\n",
    "                                                (unix_timestamp(\"DropTime\") - unix_timestamp(\"PickupTime\")) \n",
    "                                                    / 60\n",
    "                                             )\n",
    "                                   ) \\\n",
    "                        .withColumn(\"TripType\", \n",
    "                                        when(col(\"RatecodeID\") == 6,\"SharedTrip\").otherwise(\"SoloTrip\")\n",
    "                                   ) \\\n",
    "                        .drop(\"RatecodeID\")\n",
    "\n",
    "print(\"Applied transformations on Green Taxi data\")"
   ]
  },
  {
   "cell_type": "code",
   "execution_count": 0,
   "metadata": {
    "application/vnd.databricks.v1+cell": {
     "cellMetadata": {
      "byteLimit": 2048000,
      "rowLimit": 10000
     },
     "inputWidgets": {},
     "nuid": "1ce04117-1504-4ce1-a79d-902445a8fd87",
     "showTitle": false,
     "title": ""
    }
   },
   "outputs": [
    {
     "output_type": "display_data",
     "data": {
      "text/html": [
       "<style scoped>\n",
       "  .ansiout {\n",
       "    display: block;\n",
       "    unicode-bidi: embed;\n",
       "    white-space: pre-wrap;\n",
       "    word-wrap: break-word;\n",
       "    word-break: break-all;\n",
       "    font-family: \"Source Code Pro\", \"Menlo\", monospace;;\n",
       "    font-size: 13px;\n",
       "    color: #555;\n",
       "    margin-left: 4px;\n",
       "    line-height: 19px;\n",
       "  }\n",
       "</style>\n",
       "<div class=\"ansiout\">Saved Green Taxi fact as a global temp view\n",
       "</div>"
      ]
     },
     "metadata": {
      "application/vnd.databricks.v1+output": {
       "addedWidgets": {},
       "arguments": {},
       "data": "<div class=\"ansiout\">Saved Green Taxi fact as a global temp view\n</div>",
       "datasetInfos": [],
       "metadata": {},
       "removedWidgets": [],
       "type": "html"
      }
     },
     "output_type": "display_data"
    }
   ],
   "source": [
    "greenTaxiTripDataDF.createOrReplaceGlobalTempView(\"FactGreenTaxiTripData\")\n",
    "\n",
    "print(\"Saved Green Taxi fact as a global temp view\")"
   ]
  },
  {
   "cell_type": "code",
   "execution_count": 0,
   "metadata": {
    "application/vnd.databricks.v1+cell": {
     "cellMetadata": {
      "byteLimit": 2048000,
      "rowLimit": 10000
     },
     "inputWidgets": {},
     "nuid": "55835de4-87b7-4e75-91c9-410bafb8b787",
     "showTitle": false,
     "title": ""
    }
   },
   "outputs": [
    {
     "output_type": "display_data",
     "data": {
      "text/html": [
       "<style scoped>\n",
       "  .ansiout {\n",
       "    display: block;\n",
       "    unicode-bidi: embed;\n",
       "    white-space: pre-wrap;\n",
       "    word-wrap: break-word;\n",
       "    word-break: break-all;\n",
       "    font-family: \"Source Code Pro\", \"Menlo\", monospace;;\n",
       "    font-size: 13px;\n",
       "    color: #555;\n",
       "    margin-left: 4px;\n",
       "    line-height: 19px;\n",
       "  }\n",
       "</style>\n",
       "<div class=\"ansiout\">Starting to save Green Taxi dataframe as a fact and unmanaged table\n",
       "Saved Green Taxi dataframe as a fact and unmanaged table\n",
       "</div>"
      ]
     },
     "metadata": {
      "application/vnd.databricks.v1+output": {
       "addedWidgets": {},
       "arguments": {},
       "data": "<div class=\"ansiout\">Starting to save Green Taxi dataframe as a fact and unmanaged table\nSaved Green Taxi dataframe as a fact and unmanaged table\n</div>",
       "datasetInfos": [],
       "metadata": {},
       "removedWidgets": [],
       "type": "html"
      }
     },
     "output_type": "display_data"
    }
   ],
   "source": [
    "print(\"Starting to save Green Taxi dataframe as a fact and unmanaged table\")\n",
    "\n",
    "# Store the DataFrame as an Unmanaged Table\n",
    "greenTaxiTripDataDF \\\n",
    "    .write \\\n",
    "    .mode(\"overwrite\") \\\n",
    "    .option(\"path\", \"/mnt/datalake/DimensionalModel/Facts/GreenTaxiFact.parquet\") \\\n",
    "    .saveAsTable(\"TaxiServiceWarehouse.FactGreenTaxiTripData\") \n",
    "\n",
    "print(\"Saved Green Taxi dataframe as a fact and unmanaged table\")"
   ]
  },
  {
   "cell_type": "code",
   "execution_count": 0,
   "metadata": {
    "application/vnd.databricks.v1+cell": {
     "cellMetadata": {
      "byteLimit": 2048000,
      "rowLimit": 10000
     },
     "inputWidgets": {},
     "nuid": "2431844e-bf0f-4aa9-9a4b-35ef02cf0d56",
     "showTitle": false,
     "title": ""
    }
   },
   "outputs": [],
   "source": [
    "dbutils.notebook.exit(\"Success\")"
   ]
  },
  {
   "cell_type": "code",
   "execution_count": 0,
   "metadata": {
    "application/vnd.databricks.v1+cell": {
     "cellMetadata": {},
     "inputWidgets": {},
     "nuid": "bc16f11b-782c-47c2-a01a-414256529ff8",
     "showTitle": false,
     "title": ""
    }
   },
   "outputs": [],
   "source": []
  }
 ],
 "metadata": {
  "application/vnd.databricks.v1+notebook": {
   "dashboards": [],
   "language": "python",
   "notebookMetadata": {
    "pythonIndentUnit": 4
   },
   "notebookName": "FactGreenTaxiTripData",
   "widgets": {
    "ProcessMonth": {
     "currentValue": "201812",
     "nuid": "35d9287b-7803-4a88-8241-bcf470835f41",
     "widgetInfo": {
      "widgetType": "text",
      "defaultValue": "201812",
      "label": "Process Month (yyyymm)",
      "name": "ProcessMonth",
      "options": {
       "widgetType": "text",
       "validationRegex": null
      }
     }
    }
   }
  }
 },
 "nbformat": 4,
 "nbformat_minor": 0
}
