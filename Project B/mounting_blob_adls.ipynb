{
 "cells": [
  {
   "cell_type": "code",
   "execution_count": 0,
   "metadata": {
    "application/vnd.databricks.v1+cell": {
     "cellMetadata": {
      "byteLimit": 2048000,
      "rowLimit": 10000
     },
     "inputWidgets": {},
     "nuid": "8c5fda04-1b9a-41ae-8c03-1865a4e48bbf",
     "showTitle": false,
     "title": ""
    }
   },
   "outputs": [],
   "source": [
    "storageAccountName = \"storageprojectb1\"\n",
    "storageAccountAccessKey = \"ocYmtkq+/dDEHS4y4cws7aXv7S7j/J6zKm8XVme9loGyT+ZkLWW5UuuunkbbXVS+KnQrXc/obN/D+AStBNeMFg==\"\n",
    "#sasToken = <sas-token>\n",
    "blobContainerName = \"blobcontainer\"\n",
    "mountPoint = \"/mnt/data/\"\n",
    "if not any(mount.mountPoint == mountPoint for mount in dbutils.fs.mounts()):\n",
    "  try:\n",
    "    dbutils.fs.mount(\n",
    "      source = \"wasbs://{}@{}.blob.core.windows.net\".format(blobContainerName, storageAccountName),\n",
    "      mount_point = mountPoint,\n",
    "      extra_configs = {'fs.azure.account.key.' + storageAccountName + '.blob.core.windows.net': storageAccountAccessKey}\n",
    "      #extra_configs = {'fs.azure.sas.' + blobContainerName + '.' + storageAccountName + '.blob.core.windows.net': sasToken}\n",
    "    )\n",
    "    print(\"mount succeeded!\")\n",
    "  except Exception as e:\n",
    "    print(\"mount exception\", e)"
   ]
  },
  {
   "cell_type": "code",
   "execution_count": 0,
   "metadata": {
    "application/vnd.databricks.v1+cell": {
     "cellMetadata": {
      "byteLimit": 2048000,
      "rowLimit": 10000
     },
     "inputWidgets": {},
     "nuid": "1676ca8e-88b0-4c35-895a-baa7ab80d992",
     "showTitle": false,
     "title": ""
    }
   },
   "outputs": [],
   "source": [
    "storageAccountName = \"projectbadls124\"\n",
    "storageAccountAccessKey = \"Rl+K0o3uzW7P4H/12hIp9ur+bNnxVjs0G7r/gDvmLLbaZQrejOBapO8MtBn+DxvxE79I5O7+gzml+ASt4uDE6Q==\"\n",
    "#sasToken = <sas-token>\n",
    "blobContainerName = \"adlscontainer\"\n",
    "mountPoint = \"/mnt/data1/\"\n",
    "if not any(mount.mountPoint == mountPoint for mount in dbutils.fs.mounts()):\n",
    "  try:\n",
    "    dbutils.fs.mount(\n",
    "      source = \"abfs://{}@{}.blob.core.windows.net\".format(blobContainerName, storageAccountName),\n",
    "      mount_point = mountPoint,\n",
    "      extra_configs = {'fs.azure.account.key.' + storageAccountName + '.blob.core.windows.net': storageAccountAccessKey}\n",
    "      #extra_configs = {'fs.azure.sas.' + blobContainerName + '.' + storageAccountName + '.blob.core.windows.net': sasToken}\n",
    "    )\n",
    "    print(\"mount succeeded!\")\n",
    "  except Exception as e:\n",
    "    print(\"mount exception\", e)"
   ]
  },
  {
   "cell_type": "code",
   "execution_count": 0,
   "metadata": {
    "application/vnd.databricks.v1+cell": {
     "cellMetadata": {
      "byteLimit": 2048000,
      "rowLimit": 10000
     },
     "inputWidgets": {},
     "nuid": "ca4e2b34-8cbe-454c-b00c-6106755c3845",
     "showTitle": false,
     "title": ""
    }
   },
   "outputs": [
    {
     "output_type": "display_data",
     "data": {
      "text/html": [
       "<style scoped>\n",
       "  .table-result-container {\n",
       "    max-height: 300px;\n",
       "    overflow: auto;\n",
       "  }\n",
       "  table, th, td {\n",
       "    border: 1px solid black;\n",
       "    border-collapse: collapse;\n",
       "  }\n",
       "  th, td {\n",
       "    padding: 5px;\n",
       "  }\n",
       "  th {\n",
       "    text-align: left;\n",
       "  }\n",
       "</style><div class='table-result-container'><table class='table-result'><thead style='background-color: white'><tr><th>path</th><th>name</th><th>size</th><th>modificationTime</th></tr></thead><tbody><tr><td>dbfs:/mnt/data1/GreenTaxiTripData_201812.csv</td><td>GreenTaxiTripData_201812.csv</td><td>62056490</td><td>1693487561000</td></tr><tr><td>dbfs:/mnt/data1/PaymentTypes.json</td><td>PaymentTypes.json</td><td>277</td><td>1693487513000</td></tr><tr><td>dbfs:/mnt/data1/RateCodes.csv</td><td>RateCodes.csv</td><td>139</td><td>1693487513000</td></tr><tr><td>dbfs:/mnt/data1/TaxiZones.csv</td><td>TaxiZones.csv</td><td>12322</td><td>1693487513000</td></tr><tr><td>dbfs:/mnt/data1/YellowTaxiTripData_201812.csv</td><td>YellowTaxiTripData_201812.csv</td><td>721522221</td><td>1693487653000</td></tr></tbody></table></div>"
      ]
     },
     "metadata": {
      "application/vnd.databricks.v1+output": {
       "addedWidgets": {},
       "aggData": [],
       "aggError": "",
       "aggOverflow": false,
       "aggSchema": [],
       "aggSeriesLimitReached": false,
       "aggType": "",
       "arguments": {},
       "columnCustomDisplayInfos": {},
       "data": [
        [
         "dbfs:/mnt/data1/GreenTaxiTripData_201812.csv",
         "GreenTaxiTripData_201812.csv",
         62056490,
         1693487561000
        ],
        [
         "dbfs:/mnt/data1/PaymentTypes.json",
         "PaymentTypes.json",
         277,
         1693487513000
        ],
        [
         "dbfs:/mnt/data1/RateCodes.csv",
         "RateCodes.csv",
         139,
         1693487513000
        ],
        [
         "dbfs:/mnt/data1/TaxiZones.csv",
         "TaxiZones.csv",
         12322,
         1693487513000
        ],
        [
         "dbfs:/mnt/data1/YellowTaxiTripData_201812.csv",
         "YellowTaxiTripData_201812.csv",
         721522221,
         1693487653000
        ]
       ],
       "datasetInfos": [],
       "dbfsResultPath": null,
       "isJsonSchema": true,
       "metadata": {},
       "overflow": false,
       "plotOptions": {
        "customPlotOptions": {},
        "displayType": "table",
        "pivotAggregation": null,
        "pivotColumns": null,
        "xColumns": null,
        "yColumns": null
       },
       "removedWidgets": [],
       "schema": [
        {
         "metadata": "{}",
         "name": "path",
         "type": "\"string\""
        },
        {
         "metadata": "{}",
         "name": "name",
         "type": "\"string\""
        },
        {
         "metadata": "{}",
         "name": "size",
         "type": "\"long\""
        },
        {
         "metadata": "{}",
         "name": "modificationTime",
         "type": "\"long\""
        }
       ],
       "type": "table"
      }
     },
     "output_type": "display_data"
    },
    {
     "output_type": "display_data",
     "data": {
      "text/html": [
       "<style scoped>\n",
       "  .table-result-container {\n",
       "    max-height: 300px;\n",
       "    overflow: auto;\n",
       "  }\n",
       "  table, th, td {\n",
       "    border: 1px solid black;\n",
       "    border-collapse: collapse;\n",
       "  }\n",
       "  th, td {\n",
       "    padding: 5px;\n",
       "  }\n",
       "  th {\n",
       "    text-align: left;\n",
       "  }\n",
       "</style><div class='table-result-container'><table class='table-result'><thead style='background-color: white'><tr><th>path</th><th>name</th><th>size</th><th>modificationTime</th></tr></thead><tbody><tr><td>dbfs:/mnt/data/FHVTaxiTripData_201812_01.csv</td><td>FHVTaxiTripData_201812_01.csv</td><td>1694806758</td><td>1693486782000</td></tr><tr><td>dbfs:/mnt/data/FhvBases (1).json</td><td>FhvBases (1).json</td><td>464836</td><td>1693486178000</td></tr></tbody></table></div>"
      ]
     },
     "metadata": {
      "application/vnd.databricks.v1+output": {
       "addedWidgets": {},
       "aggData": [],
       "aggError": "",
       "aggOverflow": false,
       "aggSchema": [],
       "aggSeriesLimitReached": false,
       "aggType": "",
       "arguments": {},
       "columnCustomDisplayInfos": {},
       "data": [
        [
         "dbfs:/mnt/data/FHVTaxiTripData_201812_01.csv",
         "FHVTaxiTripData_201812_01.csv",
         1694806758,
         1693486782000
        ],
        [
         "dbfs:/mnt/data/FhvBases (1).json",
         "FhvBases (1).json",
         464836,
         1693486178000
        ]
       ],
       "datasetInfos": [],
       "dbfsResultPath": null,
       "isJsonSchema": true,
       "metadata": {},
       "overflow": false,
       "plotOptions": {
        "customPlotOptions": {},
        "displayType": "table",
        "pivotAggregation": null,
        "pivotColumns": null,
        "xColumns": null,
        "yColumns": null
       },
       "removedWidgets": [],
       "schema": [
        {
         "metadata": "{}",
         "name": "path",
         "type": "\"string\""
        },
        {
         "metadata": "{}",
         "name": "name",
         "type": "\"string\""
        },
        {
         "metadata": "{}",
         "name": "size",
         "type": "\"long\""
        },
        {
         "metadata": "{}",
         "name": "modificationTime",
         "type": "\"long\""
        }
       ],
       "type": "table"
      }
     },
     "output_type": "display_data"
    }
   ],
   "source": [
    "display(dbutils.fs.ls(\"/mnt/data1/\"))\n",
    "display(dbutils.fs.ls(\"/mnt/data\"))"
   ]
  }
 ],
 "metadata": {
  "application/vnd.databricks.v1+notebook": {
   "dashboards": [],
   "language": "python",
   "notebookMetadata": {
    "mostRecentlyExecutedCommandWithImplicitDF": {
     "commandId": 2120095301704949,
     "dataframes": [
      "_sqldf"
     ]
    },
    "pythonIndentUnit": 4
   },
   "notebookName": "mounting_blob_adls",
   "widgets": {
    "ProcessMonth": {
     "currentValue": "201901",
     "nuid": "812d2e5d-1d36-40bd-9b7b-83247582bec4",
     "widgetInfo": {
      "widgetType": "text",
      "defaultValue": "201901",
      "label": "Process Month (yyyymm)",
      "name": "ProcessMonth",
      "options": {
       "widgetType": "text",
       "validationRegex": null
      }
     }
    }
   }
  }
 },
 "nbformat": 4,
 "nbformat_minor": 0
}
